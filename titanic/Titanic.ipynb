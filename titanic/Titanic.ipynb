{
 "cells": [
  {
   "cell_type": "code",
   "execution_count": 6,
   "metadata": {
    "collapsed": false
   },
   "outputs": [],
   "source": [
    "import csv as csv\n",
    "import numpy as np\n",
    "\n",
    "csv_file_object = csv.reader(open('./data/train.csv'))\n",
    "header = next(csv_file_object)\n",
    "\n",
    "data = []\n",
    "for row in csv_file_object:\n",
    "    data.append(row)\n",
    "data = np.array(data)"
   ]
  },
  {
   "cell_type": "code",
   "execution_count": 8,
   "metadata": {
    "collapsed": false
   },
   "outputs": [
    {
     "name": "stdout",
     "output_type": "stream",
     "text": [
      "['1' '0' '3' 'Braund, Mr. Owen Harris' 'male' '22' '1' '0' 'A/5 21171'\n",
      " '7.25' '' 'S']\n"
     ]
    }
   ],
   "source": [
    "print(data[0])"
   ]
  },
  {
   "cell_type": "code",
   "execution_count": 16,
   "metadata": {
    "collapsed": false
   },
   "outputs": [
    {
     "name": "stdout",
     "output_type": "stream",
     "text": [
      "0.383838383838\n"
     ]
    }
   ],
   "source": [
    "number_passengers = np.size(data[0::, 1].astype(np.float))\n",
    "number_survived  = np.sum(data[0::,1].astype(np.float))\n",
    "proportion_survivors = number_survived / number_passengers\n",
    "\n",
    "print(proportion_survivors)"
   ]
  },
  {
   "cell_type": "code",
   "execution_count": 21,
   "metadata": {
    "collapsed": false
   },
   "outputs": [
    {
     "name": "stdout",
     "output_type": "stream",
     "text": [
      "Proportion of women who survived is 0.742038216561\n",
      "Proportion of men who survived is 0.188908145581\n"
     ]
    }
   ],
   "source": [
    "women_only_stats = data[0::, 4] == 'female'\n",
    "men_only_stats = data[0::, 4] == 'male'\n",
    "\n",
    "women_onboard = data[women_only_stats,1].astype(np.float)     \n",
    "men_onboard = data[men_only_stats,1].astype(np.float)\n",
    "\n",
    "proportion_women_survived = np.sum(women_onboard) / np.size(women_onboard)  \n",
    "proportion_men_survived = np.sum(men_onboard) / np.size(men_onboard)\n",
    "\n",
    "print('Proportion of women who survived is %s' % proportion_women_survived)\n",
    "print('Proportion of men who survived is %s' % proportion_men_survived)"
   ]
  },
  {
   "cell_type": "code",
   "execution_count": 39,
   "metadata": {
    "collapsed": false
   },
   "outputs": [],
   "source": [
    "test_file = open('./data/test.csv')\n",
    "test_file_object = csv.reader(test_file)\n",
    "header = next(test_file_object)\n",
    "\n",
    "prediction_file = open(\"./data/genderbasedmodel.csv\", \"w\")\n",
    "prediction_file_object = csv.writer(prediction_file)\n",
    "\n",
    "prediction_file_object.writerow([\"PassengerId\", \"Survived\"])\n",
    "for row in test_file_object:       \n",
    "    if (row[3] == 'female'):         \n",
    "        prediction_file_object.writerow([row[0],'1'])\n",
    "    else:                             \n",
    "        prediction_file_object.writerow([row[0],'0'])\n",
    "test_file.close()\n",
    "prediction_file.close()"
   ]
  },
  {
   "cell_type": "code",
   "execution_count": 66,
   "metadata": {
    "collapsed": false
   },
   "outputs": [
    {
     "name": "stderr",
     "output_type": "stream",
     "text": [
      "/Library/Frameworks/Python.framework/Versions/3.4/lib/python3.4/site-packages/ipykernel/__main__.py:15: VisibleDeprecationWarning: using a non-integer number instead of an integer will result in an error in the future\n"
     ]
    }
   ],
   "source": [
    "fare_ceiling = 40\n",
    "data[ data[0::,9].astype(np.float) >= fare_ceiling, 9 ] = fare_ceiling - 1.0\n",
    "\n",
    "fare_bracket_size = 10\n",
    "number_of_price_brackets = fare_ceiling / fare_bracket_size\n",
    "\n",
    "# I know there were 1st, 2nd and 3rd classes on board\n",
    "number_of_classes = 3\n",
    "\n",
    "# But it's better practice to calculate this from the data directly\n",
    "# Take the length of an array of unique values in column index 2\n",
    "number_of_classes = len(np.unique(data[0::,2])) \n",
    "\n",
    "# Initialize the survival table with all zeros\n",
    "survival_table = np.zeros((2, number_of_classes, number_of_price_brackets))\n"
   ]
  },
  {
   "cell_type": "code",
   "execution_count": null,
   "metadata": {
    "collapsed": false
   },
   "outputs": [],
   "source": []
  },
  {
   "cell_type": "code",
   "execution_count": null,
   "metadata": {
    "collapsed": true
   },
   "outputs": [],
   "source": []
  }
 ],
 "metadata": {
  "kernelspec": {
   "display_name": "Python 3",
   "language": "python",
   "name": "python3"
  },
  "language_info": {
   "codemirror_mode": {
    "name": "ipython",
    "version": 3
   },
   "file_extension": ".py",
   "mimetype": "text/x-python",
   "name": "python",
   "nbconvert_exporter": "python",
   "pygments_lexer": "ipython3",
   "version": "3.4.3"
  }
 },
 "nbformat": 4,
 "nbformat_minor": 1
}
