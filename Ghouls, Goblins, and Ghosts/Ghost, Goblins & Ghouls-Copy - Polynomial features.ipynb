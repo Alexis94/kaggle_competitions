{
 "cells": [
  {
   "cell_type": "markdown",
   "metadata": {},
   "source": [
    "# Ghost, Goblins & Ghouls competion"
   ]
  },
  {
   "cell_type": "code",
   "execution_count": 509,
   "metadata": {
    "collapsed": true
   },
   "outputs": [],
   "source": [
    "import pandas as pd\n",
    "import numpy as np\n",
    "import pylab as P\n",
    "import matplotlib.pyplot as plt\n",
    "from sklearn.linear_model import LogisticRegression\n",
    "from sklearn.preprocessing import PolynomialFeatures\n",
    "from sklearn.model_selection import train_test_split"
   ]
  },
  {
   "cell_type": "markdown",
   "metadata": {},
   "source": [
    "## Import data"
   ]
  },
  {
   "cell_type": "code",
   "execution_count": 510,
   "metadata": {
    "collapsed": false
   },
   "outputs": [
    {
     "data": {
      "text/html": [
       "<div>\n",
       "<table border=\"1\" class=\"dataframe\">\n",
       "  <thead>\n",
       "    <tr style=\"text-align: right;\">\n",
       "      <th></th>\n",
       "      <th>id</th>\n",
       "      <th>bone_length</th>\n",
       "      <th>rotting_flesh</th>\n",
       "      <th>hair_length</th>\n",
       "      <th>has_soul</th>\n",
       "    </tr>\n",
       "  </thead>\n",
       "  <tbody>\n",
       "    <tr>\n",
       "      <th>count</th>\n",
       "      <td>371.000000</td>\n",
       "      <td>371.000000</td>\n",
       "      <td>371.000000</td>\n",
       "      <td>371.000000</td>\n",
       "      <td>371.000000</td>\n",
       "    </tr>\n",
       "    <tr>\n",
       "      <th>mean</th>\n",
       "      <td>443.676550</td>\n",
       "      <td>0.434160</td>\n",
       "      <td>0.506848</td>\n",
       "      <td>0.529114</td>\n",
       "      <td>0.471392</td>\n",
       "    </tr>\n",
       "    <tr>\n",
       "      <th>std</th>\n",
       "      <td>263.222489</td>\n",
       "      <td>0.132833</td>\n",
       "      <td>0.146358</td>\n",
       "      <td>0.169902</td>\n",
       "      <td>0.176129</td>\n",
       "    </tr>\n",
       "    <tr>\n",
       "      <th>min</th>\n",
       "      <td>0.000000</td>\n",
       "      <td>0.061032</td>\n",
       "      <td>0.095687</td>\n",
       "      <td>0.134600</td>\n",
       "      <td>0.009402</td>\n",
       "    </tr>\n",
       "    <tr>\n",
       "      <th>25%</th>\n",
       "      <td>205.500000</td>\n",
       "      <td>0.340006</td>\n",
       "      <td>0.414812</td>\n",
       "      <td>0.407428</td>\n",
       "      <td>0.348002</td>\n",
       "    </tr>\n",
       "    <tr>\n",
       "      <th>50%</th>\n",
       "      <td>458.000000</td>\n",
       "      <td>0.434891</td>\n",
       "      <td>0.501552</td>\n",
       "      <td>0.538642</td>\n",
       "      <td>0.466372</td>\n",
       "    </tr>\n",
       "    <tr>\n",
       "      <th>75%</th>\n",
       "      <td>678.500000</td>\n",
       "      <td>0.517223</td>\n",
       "      <td>0.603977</td>\n",
       "      <td>0.647244</td>\n",
       "      <td>0.600610</td>\n",
       "    </tr>\n",
       "    <tr>\n",
       "      <th>max</th>\n",
       "      <td>897.000000</td>\n",
       "      <td>0.817001</td>\n",
       "      <td>0.932466</td>\n",
       "      <td>1.000000</td>\n",
       "      <td>0.935721</td>\n",
       "    </tr>\n",
       "  </tbody>\n",
       "</table>\n",
       "</div>"
      ],
      "text/plain": [
       "               id  bone_length  rotting_flesh  hair_length    has_soul\n",
       "count  371.000000   371.000000     371.000000   371.000000  371.000000\n",
       "mean   443.676550     0.434160       0.506848     0.529114    0.471392\n",
       "std    263.222489     0.132833       0.146358     0.169902    0.176129\n",
       "min      0.000000     0.061032       0.095687     0.134600    0.009402\n",
       "25%    205.500000     0.340006       0.414812     0.407428    0.348002\n",
       "50%    458.000000     0.434891       0.501552     0.538642    0.466372\n",
       "75%    678.500000     0.517223       0.603977     0.647244    0.600610\n",
       "max    897.000000     0.817001       0.932466     1.000000    0.935721"
      ]
     },
     "execution_count": 510,
     "metadata": {},
     "output_type": "execute_result"
    }
   ],
   "source": [
    "df = pd.read_csv('./train.csv')\n",
    "df.describe()"
   ]
  },
  {
   "cell_type": "code",
   "execution_count": 511,
   "metadata": {
    "collapsed": false
   },
   "outputs": [
    {
     "name": "stdout",
     "output_type": "stream",
     "text": [
      "<class 'pandas.core.frame.DataFrame'>\n",
      "RangeIndex: 371 entries, 0 to 370\n",
      "Data columns (total 7 columns):\n",
      "id               371 non-null int64\n",
      "bone_length      371 non-null float64\n",
      "rotting_flesh    371 non-null float64\n",
      "hair_length      371 non-null float64\n",
      "has_soul         371 non-null float64\n",
      "color            371 non-null object\n",
      "type             371 non-null object\n",
      "dtypes: float64(4), int64(1), object(2)\n",
      "memory usage: 20.4+ KB\n"
     ]
    }
   ],
   "source": [
    "df.info()"
   ]
  },
  {
   "cell_type": "markdown",
   "metadata": {},
   "source": [
    "Splitting Dataset into $X_{train}$, $y_{train}$, $X_{test}$, $y_{test}$"
   ]
  },
  {
   "cell_type": "code",
   "execution_count": 512,
   "metadata": {
    "collapsed": false
   },
   "outputs": [
    {
     "data": {
      "text/html": [
       "<div>\n",
       "<table border=\"1\" class=\"dataframe\">\n",
       "  <thead>\n",
       "    <tr style=\"text-align: right;\">\n",
       "      <th></th>\n",
       "      <th>bone_length</th>\n",
       "      <th>rotting_flesh</th>\n",
       "      <th>hair_length</th>\n",
       "      <th>has_soul</th>\n",
       "      <th>color</th>\n",
       "    </tr>\n",
       "  </thead>\n",
       "  <tbody>\n",
       "    <tr>\n",
       "      <th>247</th>\n",
       "      <td>0.269748</td>\n",
       "      <td>0.627138</td>\n",
       "      <td>0.195365</td>\n",
       "      <td>0.367902</td>\n",
       "      <td>blue</td>\n",
       "    </tr>\n",
       "    <tr>\n",
       "      <th>111</th>\n",
       "      <td>0.476730</td>\n",
       "      <td>0.242420</td>\n",
       "      <td>0.294214</td>\n",
       "      <td>0.317795</td>\n",
       "      <td>black</td>\n",
       "    </tr>\n",
       "    <tr>\n",
       "      <th>123</th>\n",
       "      <td>0.505375</td>\n",
       "      <td>0.327578</td>\n",
       "      <td>0.650431</td>\n",
       "      <td>0.528015</td>\n",
       "      <td>green</td>\n",
       "    </tr>\n",
       "    <tr>\n",
       "      <th>322</th>\n",
       "      <td>0.217248</td>\n",
       "      <td>0.498718</td>\n",
       "      <td>0.331531</td>\n",
       "      <td>0.523283</td>\n",
       "      <td>white</td>\n",
       "    </tr>\n",
       "    <tr>\n",
       "      <th>244</th>\n",
       "      <td>0.391036</td>\n",
       "      <td>0.506061</td>\n",
       "      <td>0.252296</td>\n",
       "      <td>0.347765</td>\n",
       "      <td>black</td>\n",
       "    </tr>\n",
       "  </tbody>\n",
       "</table>\n",
       "</div>"
      ],
      "text/plain": [
       "     bone_length  rotting_flesh  hair_length  has_soul  color\n",
       "247     0.269748       0.627138     0.195365  0.367902   blue\n",
       "111     0.476730       0.242420     0.294214  0.317795  black\n",
       "123     0.505375       0.327578     0.650431  0.528015  green\n",
       "322     0.217248       0.498718     0.331531  0.523283  white\n",
       "244     0.391036       0.506061     0.252296  0.347765  black"
      ]
     },
     "execution_count": 512,
     "metadata": {},
     "output_type": "execute_result"
    }
   ],
   "source": [
    "X = df.drop(['id', 'type'], axis=1)\n",
    "y = df['type']\n",
    "X_train, X_test, y_train, y_test = train_test_split(X, y, random_state=25, test_size=0.33)\n",
    "X_train.head(5)"
   ]
  },
  {
   "cell_type": "markdown",
   "metadata": {},
   "source": [
    "# Logistic Regression\n",
    "We perform logistc regression for different combination of alpha and polynomial degree evaluation to pick the best model"
   ]
  },
  {
   "cell_type": "code",
   "execution_count": 513,
   "metadata": {
    "collapsed": false
   },
   "outputs": [],
   "source": [
    "def formatX(X, poly):\n",
    "    #colors = pd.get_dummies(X['color'])\n",
    "    X = poly.fit_transform(X.drop(['color'], axis=1).values)\n",
    "    #X = pd.concat([pd.DataFrame(X), pd.DataFrame(colors.values)], axis=1)\n",
    "    return X\n",
    "\n",
    "def formatY(y):\n",
    "    return np.sum(np.array(pd.get_dummies(pd.DataFrame(y)['type']).values)*np.array([1, 2, 3]), axis=1)\n",
    "\n",
    "def performLogisticRegression(X_train, y_train, alpha, poly):\n",
    "    logreg = LogisticRegression(C=alpha)\n",
    "    logreg.fit(formatX(X_train, poly), formatY(y_train))\n",
    "    return logreg\n",
    "\n",
    "def predict(model, X_test, poly):\n",
    "    return model.predict(formatX(X_test, poly))"
   ]
  },
  {
   "cell_type": "code",
   "execution_count": 514,
   "metadata": {
    "collapsed": false
   },
   "outputs": [
    {
     "data": {
      "text/plain": [
       "(array([  1.,   2.,   3.,   4.,   5.,   6.,   7.,   8.,   9.,  10.]),\n",
       " array([ 1000,  2000,  3000,  4000,  5000,  6000,  7000,  8000,  9000, 10000]))"
      ]
     },
     "execution_count": 514,
     "metadata": {},
     "output_type": "execute_result"
    }
   ],
   "source": [
    "degrees = np.linspace(1, 10, 10)\n",
    "alphas = np.arange(1000, 10100, 1000)\n",
    "degrees, alphas"
   ]
  },
  {
   "cell_type": "code",
   "execution_count": 515,
   "metadata": {
    "collapsed": false
   },
   "outputs": [
    {
     "name": "stdout",
     "output_type": "stream",
     "text": [
      "[[0.73170731707317072, 0.73983739837398377, 0.73983739837398377, 0.73983739837398377, 0.74796747967479671, 0.72357723577235777, 0.72357723577235777, 0.73170731707317072, 0.73170731707317072, 0.73170731707317072], [0.73170731707317072, 0.73170731707317072, 0.73983739837398377, 0.74796747967479671, 0.72357723577235777, 0.72357723577235777, 0.73170731707317072, 0.73170731707317072, 0.72357723577235777, 0.71544715447154472], [0.73170731707317072, 0.73983739837398377, 0.73170731707317072, 0.73170731707317072, 0.73170731707317072, 0.73170731707317072, 0.73170731707317072, 0.72357723577235777, 0.72357723577235777, 0.70731707317073167], [0.73170731707317072, 0.73983739837398377, 0.73170731707317072, 0.73170731707317072, 0.73170731707317072, 0.73170731707317072, 0.73170731707317072, 0.72357723577235777, 0.70731707317073167, 0.70731707317073167], [0.73170731707317072, 0.73983739837398377, 0.73983739837398377, 0.73170731707317072, 0.72357723577235777, 0.73170731707317072, 0.72357723577235777, 0.71544715447154472, 0.70731707317073167, 0.71544715447154472], [0.73170731707317072, 0.73983739837398377, 0.73983739837398377, 0.73170731707317072, 0.72357723577235777, 0.73170731707317072, 0.72357723577235777, 0.69918699186991873, 0.69918699186991873, 0.70731707317073167], [0.73170731707317072, 0.73983739837398377, 0.74796747967479671, 0.73170731707317072, 0.72357723577235777, 0.73170731707317072, 0.70731707317073167, 0.69918699186991873, 0.69918699186991873, 0.70731707317073167], [0.73170731707317072, 0.73983739837398377, 0.74796747967479671, 0.73170731707317072, 0.73170731707317072, 0.72357723577235777, 0.69918699186991873, 0.69918699186991873, 0.69918699186991873, 0.71544715447154472], [0.73170731707317072, 0.73983739837398377, 0.74796747967479671, 0.73170731707317072, 0.73170731707317072, 0.71544715447154472, 0.69918699186991873, 0.69918699186991873, 0.69918699186991873, 0.71544715447154472], [0.73170731707317072, 0.73983739837398377, 0.73983739837398377, 0.72357723577235777, 0.73170731707317072, 0.71544715447154472, 0.69918699186991873, 0.69105691056910568, 0.70731707317073167, 0.70731707317073167]]\n"
     ]
    }
   ],
   "source": [
    "results = []\n",
    "for alpha in alphas:\n",
    "    scores = []\n",
    "    for d in degrees:\n",
    "        poly = PolynomialFeatures(int(d))\n",
    "        model = performLogisticRegression(X_train, y_train, alpha, poly)\n",
    "        y_predict = predict(model, X_test, poly)\n",
    "        scores.append(model.score(formatX(X_test, poly), formatY(y_test)))\n",
    "    results.append(scores)\n",
    "print(results)"
   ]
  },
  {
   "cell_type": "code",
   "execution_count": 516,
   "metadata": {
    "collapsed": false
   },
   "outputs": [
    {
     "data": {
      "image/png": "[encoded data removed]",
      "text/plain": [
       "<matplotlib.figure.Figure at 0x10c295fd0>"
      ]
     },
     "metadata": {},
     "output_type": "display_data"
    }
   ],
   "source": [
    "f, axarr = plt.subplots(len(alphas)//2, 2)\n",
    "f.tight_layout()\n",
    "for i in range(len(alphas)//2):\n",
    "    for j in range(2):\n",
    "        axarr[i, j].plot(degrees, results[i])\n",
    "        title = 'Score pour alpha=' + str(alphas[2*i+j])\n",
    "        axarr[i, j].set_title(title)\n",
    "plt.show()"
   ]
  },
  {
   "cell_type": "code",
   "execution_count": 517,
   "metadata": {
    "collapsed": false
   },
   "outputs": [],
   "source": [
    "results = np.array(results)\n",
    "a, b = np.unravel_index(results.argmax(), results.shape)"
   ]
  },
  {
   "cell_type": "markdown",
   "metadata": {},
   "source": [
    "We choose degree = 2 and alpha = 8000"
   ]
  },
  {
   "cell_type": "code",
   "execution_count": 518,
   "metadata": {
    "collapsed": false
   },
   "outputs": [
    {
     "data": {
      "text/plain": [
       "0.73983739837398377"
      ]
     },
     "execution_count": 518,
     "metadata": {},
     "output_type": "execute_result"
    }
   ],
   "source": [
    "#degree = int(degrees[b])\n",
    "#alpha = alphas[a]\n",
    "degree = 2\n",
    "alpha = 8000\n",
    "poly = PolynomialFeatures(degree)\n",
    "model = performLogisticRegression(X_train, y_train, alpha, poly)\n",
    "y_predict = predict(model, X_test, poly)\n",
    "model.score(formatX(X_test, poly), formatY(y_test))"
   ]
  },
  {
   "cell_type": "code",
   "execution_count": 519,
   "metadata": {
    "collapsed": false
   },
   "outputs": [],
   "source": [
    "#Ghost = 1 #Ghoul = 2 # Goblin = 3\n",
    "types = {1: 'Ghost', 2: 'Ghoul', 3: 'Goblin'}"
   ]
  },
  {
   "cell_type": "code",
   "execution_count": 520,
   "metadata": {
    "collapsed": false
   },
   "outputs": [],
   "source": [
    "df_test = pd.read_csv('./test.csv')\n",
    "y_predict = predict(model, df_test.drop(['id'], axis=1), poly)"
   ]
  },
  {
   "cell_type": "code",
   "execution_count": 521,
   "metadata": {
    "collapsed": false
   },
   "outputs": [],
   "source": [
    "df_predictions = pd.DataFrame({'id': df_test['id'] , 'type': y_predict})\n",
    "df_predictions['type'] = df_predictions['type'].apply(lambda type: types[type])\n",
    "df_predictions.head(10)\n",
    "df_predictions.to_csv('out.csv', index=False)"
   ]
  },
  {
   "cell_type": "code",
   "execution_count": null,
   "metadata": {
    "collapsed": false
   },
   "outputs": [],
   "source": []
  },
  {
   "cell_type": "code",
   "execution_count": 523,
   "metadata": {
    "collapsed": false
   },
   "outputs": [
    {
     "data": {
      "text/plain": [
       "(8000, 2)"
      ]
     },
     "execution_count": 523,
     "metadata": {},
     "output_type": "execute_result"
    }
   ],
   "source": [
    "alpha, degree"
   ]
  },
  {
   "cell_type": "code",
   "execution_count": 531,
   "metadata": {
    "collapsed": false
   },
   "outputs": [],
   "source": [
    "from sklearn.decomposition import PCA\n",
    "pca = PCA(n_components = 2)\n",
    "X_pca = df.drop(['id', 'color', 'type'], axis=1).values\n",
    "X_pca = pca.fit_transform(X_pca)\n",
    "X_pca = pd.DataFrame(X_pca)\n",
    "X_pca['type'] = df['type']"
   ]
  },
  {
   "cell_type": "code",
   "execution_count": 532,
   "metadata": {
    "collapsed": false
   },
   "outputs": [
    {
     "data": {
      "text/html": [
       "<div>\n",
       "<table border=\"1\" class=\"dataframe\">\n",
       "  <thead>\n",
       "    <tr style=\"text-align: right;\">\n",
       "      <th></th>\n",
       "      <th>0</th>\n",
       "      <th>1</th>\n",
       "      <th>type</th>\n",
       "    </tr>\n",
       "  </thead>\n",
       "  <tbody>\n",
       "    <tr>\n",
       "      <th>0</th>\n",
       "      <td>-0.171715</td>\n",
       "      <td>-0.060385</td>\n",
       "      <td>Ghoul</td>\n",
       "    </tr>\n",
       "    <tr>\n",
       "      <th>1</th>\n",
       "      <td>-0.045893</td>\n",
       "      <td>-0.050061</td>\n",
       "      <td>Goblin</td>\n",
       "    </tr>\n",
       "    <tr>\n",
       "      <th>2</th>\n",
       "      <td>-0.434000</td>\n",
       "      <td>-0.076151</td>\n",
       "      <td>Ghoul</td>\n",
       "    </tr>\n",
       "    <tr>\n",
       "      <th>3</th>\n",
       "      <td>-0.459892</td>\n",
       "      <td>0.190824</td>\n",
       "      <td>Ghoul</td>\n",
       "    </tr>\n",
       "    <tr>\n",
       "      <th>4</th>\n",
       "      <td>-0.008659</td>\n",
       "      <td>0.433298</td>\n",
       "      <td>Ghost</td>\n",
       "    </tr>\n",
       "  </tbody>\n",
       "</table>\n",
       "</div>"
      ],
      "text/plain": [
       "          0         1    type\n",
       "0 -0.171715 -0.060385   Ghoul\n",
       "1 -0.045893 -0.050061  Goblin\n",
       "2 -0.434000 -0.076151   Ghoul\n",
       "3 -0.459892  0.190824   Ghoul\n",
       "4 -0.008659  0.433298   Ghost"
      ]
     },
     "execution_count": 532,
     "metadata": {},
     "output_type": "execute_result"
    }
   ],
   "source": [
    "X_pca.head()"
   ]
  },
  {
   "cell_type": "markdown",
   "metadata": {},
   "source": [
    "# ACP\n",
    "We do an ACP to see if a K-mean or CHA clustering algorithm could fit"
   ]
  },
  {
   "cell_type": "code",
   "execution_count": 533,
   "metadata": {
    "collapsed": false
   },
   "outputs": [
    {
     "data": {
      "image/png": "[encoded data removed]",
      "text/plain": [
       "<matplotlib.figure.Figure at 0x10c8ff860>"
      ]
     },
     "metadata": {},
     "output_type": "display_data"
    }
   ],
   "source": [
    "lw = 2\n",
    "f = plt.figure()\n",
    "types = [\"Ghoul\", \"Goblin\", \"Ghost\"]\n",
    "colors = ['navy', 'turquoise', 'darkorange']\n",
    "for color, type in zip(colors, types):\n",
    "    X_tmp = np.array(X_pca[X_pca['type'] == type])\n",
    "    plt.scatter(X_tmp[:, 0], X_tmp[:, 1], color=color, alpha=.8, lw=lw, label=type)\n",
    "plt.show()"
   ]
  },
  {
   "cell_type": "code",
   "execution_count": null,
   "metadata": {
    "collapsed": false
   },
   "outputs": [],
   "source": []
  },
  {
   "cell_type": "code",
   "execution_count": null,
   "metadata": {
    "collapsed": false
   },
   "outputs": [],
   "source": []
  },
  {
   "cell_type": "code",
   "execution_count": null,
   "metadata": {
    "collapsed": false
   },
   "outputs": [],
   "source": []
  },
  {
   "cell_type": "code",
   "execution_count": null,
   "metadata": {
    "collapsed": false
   },
   "outputs": [],
   "source": []
  },
  {
   "cell_type": "code",
   "execution_count": null,
   "metadata": {
    "collapsed": false
   },
   "outputs": [],
   "source": []
  },
  {
   "cell_type": "code",
   "execution_count": null,
   "metadata": {
    "collapsed": true
   },
   "outputs": [],
   "source": []
  }
 ],
 "metadata": {
  "kernelspec": {
   "display_name": "Python 3",
   "language": "python",
   "name": "python3"
  },
  "language_info": {
   "codemirror_mode": {
    "name": "ipython",
    "version": 3
   },
   "file_extension": ".py",
   "mimetype": "text/x-python",
   "name": "python",
   "nbconvert_exporter": "python",
   "pygments_lexer": "ipython3",
   "version": "3.4.3"
  }
 },
 "nbformat": 4,
 "nbformat_minor": 1
}
